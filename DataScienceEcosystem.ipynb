{
 "cells": [
  {
   "cell_type": "markdown",
   "id": "0347763d-4350-4d18-a213-232cecbb1ff8",
   "metadata": {},
   "source": [
    "# Data Science Tools and Ecosystem"
   ]
  },
  {
   "cell_type": "markdown",
   "id": "e42cbc82-53ba-4796-9dab-a9822425555b",
   "metadata": {
    "tags": []
   },
   "source": [
    "## Author \n",
    "\n",
    "Jash"
   ]
  },
  {
   "cell_type": "markdown",
   "id": "6f0b4c98-8c50-4305-acbb-f620192175e8",
   "metadata": {},
   "source": [
    "In this notebook, Data Science Tools and Ecosystem are summarized."
   ]
  },
  {
   "cell_type": "markdown",
   "id": "4c5ea004-6332-4628-99ac-ac9d24f600da",
   "metadata": {},
   "source": [
    "**Objectives:** \n",
    "- Python \n",
    "- R \n",
    "- SciPy \n",
    "- Caret \n",
    "- Julia"
   ]
  },
  {
   "cell_type": "markdown",
   "id": "e361c8bb-3622-4578-b432-1b5233128f14",
   "metadata": {},
   "source": [
    "Some of the popular languages that Data Scientists use are: \n",
    "1. Python \n",
    "2. R \n",
    "3. Julia"
   ]
  },
  {
   "cell_type": "markdown",
   "id": "ea970d9d-eadb-42b3-b166-a24583681e04",
   "metadata": {
    "tags": []
   },
   "source": [
    "Some of the commonly used libraries used by Data Scientists include:  \n",
    "1. SciPy \n",
    "2. Caret  \n",
    "3. Pandas \n",
    "4. NumPy \n",
    "5. TensorFlow\n",
    "6. PyTorch"
   ]
  },
  {
   "cell_type": "markdown",
   "id": "1bfdfa00-6f2b-47ab-9ad5-2fb6e73acfcc",
   "metadata": {},
   "source": [
    "|Data Science Tools| \n",
    "|------------------| \n",
    "|Knime| \n",
    "|RStudio|\n",
    "|JuPyter Labs|"
   ]
  },
  {
   "cell_type": "markdown",
   "id": "8eb0bdec-e343-4f91-8409-b4751847e327",
   "metadata": {
    "tags": []
   },
   "source": [
    "### Below are a few examples of evaluating arithmetic expressions in Python"
   ]
  },
  {
   "cell_type": "code",
   "execution_count": 2,
   "id": "74897700-14dc-4b29-9b97-05982c9e81b6",
   "metadata": {
    "tags": []
   },
   "outputs": [
    {
     "data": {
      "text/plain": [
       "17"
      ]
     },
     "execution_count": 2,
     "metadata": {},
     "output_type": "execute_result"
    }
   ],
   "source": [
    "#This a simple arithmetic expression to mutiply then add integers\n",
    "(3*4)+5"
   ]
  },
  {
   "cell_type": "code",
   "execution_count": 3,
   "id": "6c2f9c8c-2c07-4558-a477-e4bfa0f72b29",
   "metadata": {
    "tags": []
   },
   "outputs": [
    {
     "data": {
      "text/plain": [
       "3.3333333333333335"
      ]
     },
     "execution_count": 3,
     "metadata": {},
     "output_type": "execute_result"
    }
   ],
   "source": [
    "#This will convert 200 minutes to hours by diving by 60 \n",
    "200*(1/60)"
   ]
  }
 ],
 "metadata": {
  "kernelspec": {
   "display_name": "Python",
   "language": "python",
   "name": "conda-env-python-py"
  },
  "language_info": {
   "codemirror_mode": {
    "name": "ipython",
    "version": 3
   },
   "file_extension": ".py",
   "mimetype": "text/x-python",
   "name": "python",
   "nbconvert_exporter": "python",
   "pygments_lexer": "ipython3",
   "version": "3.7.12"
  }
 },
 "nbformat": 4,
 "nbformat_minor": 5
}
